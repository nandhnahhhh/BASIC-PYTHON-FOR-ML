{
  "nbformat": 4,
  "nbformat_minor": 0,
  "metadata": {
    "colab": {
      "provenance": [],
      "authorship_tag": "ABX9TyOWTJHmmcu4m3IfmFzpKs9Q",
      "include_colab_link": true
    },
    "kernelspec": {
      "name": "python3",
      "display_name": "Python 3"
    },
    "language_info": {
      "name": "python"
    }
  },
  "cells": [
    {
      "cell_type": "markdown",
      "metadata": {
        "id": "view-in-github",
        "colab_type": "text"
      },
      "source": [
        "<a href=\"https://colab.research.google.com/github/nandhnahhhh/BASIC-PYTHON-FOR-ML/blob/main/basic_python.ipynb\" target=\"_parent\"><img src=\"https://colab.research.google.com/assets/colab-badge.svg\" alt=\"Open In Colab\"/></a>"
      ]
    },
    {
      "cell_type": "markdown",
      "source": [
        "# INTRODUCTION TO `PYTHON`\n",
        "\n",
        "FIRST PROGRAM DISPLAYS A HELLO"
      ],
      "metadata": {
        "id": "uzE-6yn57JLN"
      }
    },
    {
      "cell_type": "code",
      "source": [
        "print(\"HELLO\")"
      ],
      "metadata": {
        "colab": {
          "base_uri": "https://localhost:8080/"
        },
        "id": "mpV73ug177FF",
        "outputId": "ca540f71-f028-4722-f0df-d522b2279496"
      },
      "execution_count": 1,
      "outputs": [
        {
          "output_type": "stream",
          "name": "stdout",
          "text": [
            "HELLO\n"
          ]
        }
      ]
    },
    {
      "cell_type": "markdown",
      "source": [
        ">program to assign an integer and display it.\n"
      ],
      "metadata": {
        "id": "_Df-EK589dHU"
      }
    },
    {
      "cell_type": "code",
      "source": [
        "a=10\n",
        "print(a)"
      ],
      "metadata": {
        "colab": {
          "base_uri": "https://localhost:8080/"
        },
        "id": "yThReszD86P8",
        "outputId": "739228a8-a0f5-4217-852c-cd3b3842d5fb"
      },
      "execution_count": 2,
      "outputs": [
        {
          "output_type": "stream",
          "name": "stdout",
          "text": [
            "10\n"
          ]
        }
      ]
    },
    {
      "cell_type": "code",
      "source": [
        "a=4\n",
        "print(\"a=\",10)"
      ],
      "metadata": {
        "colab": {
          "base_uri": "https://localhost:8080/"
        },
        "id": "oR0UhTd59BCk",
        "outputId": "e1e76442-42da-4c8a-f300-fc7c6e60201a"
      },
      "execution_count": 3,
      "outputs": [
        {
          "output_type": "stream",
          "name": "stdout",
          "text": [
            "a= 10\n"
          ]
        }
      ]
    },
    {
      "cell_type": "markdown",
      "source": [
        ">program to find sum of two numbers"
      ],
      "metadata": {
        "id": "FvbZMX5S9v59"
      }
    },
    {
      "cell_type": "code",
      "source": [
        "a=2\n",
        "b=10\n",
        "sum=a+b\n",
        "print(\"sum=\",sum)"
      ],
      "metadata": {
        "colab": {
          "base_uri": "https://localhost:8080/"
        },
        "id": "WDgQ165L90h8",
        "outputId": "b54d0b74-d4df-435b-df18-c79cf4636e59"
      },
      "execution_count": 5,
      "outputs": [
        {
          "output_type": "stream",
          "name": "stdout",
          "text": [
            "sum= 12\n"
          ]
        }
      ]
    },
    {
      "cell_type": "markdown",
      "source": [
        ">Read input from the user"
      ],
      "metadata": {
        "id": "vKCLLsqc-V4j"
      }
    },
    {
      "cell_type": "code",
      "source": [
        "a=int(input(\"enter first number : \"))\n",
        "b=int(input(\"enter second number :\"))\n",
        "print(\"sum=\",a+b)"
      ],
      "metadata": {
        "colab": {
          "base_uri": "https://localhost:8080/"
        },
        "id": "gh_PWSm-9trV",
        "outputId": "4c392484-c863-4412-dd57-17de851272f2"
      },
      "execution_count": 7,
      "outputs": [
        {
          "output_type": "stream",
          "name": "stdout",
          "text": [
            "enter first number : 4\n",
            "enter second number :6\n",
            "sum= 10\n"
          ]
        }
      ]
    }
  ]
}